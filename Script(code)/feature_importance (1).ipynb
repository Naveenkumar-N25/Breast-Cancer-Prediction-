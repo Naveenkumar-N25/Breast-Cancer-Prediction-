{
 "cells": [
  {
   "cell_type": "code",
   "execution_count": null,
   "id": "05f2b99e-3c57-428d-a103-91c590a33e1c",
   "metadata": {},
   "outputs": [],
   "source": [
    "from sklearn.datasets import load_breast_cancer\n",
    "from sklearn.ensemble import RandomForestClassifier\n",
    "import matplotlib.pyplot as plt\n",
    "import pandas as pd\n",
    "\n",
    "# Load dataset\n",
    "data = load_breast_cancer()\n",
    "X = pd.DataFrame(data.data, columns=data.feature_names)\n",
    "y = pd.Series(data.target)\n",
    "\n",
    "# Train model\n",
    "model = RandomForestClassifier()\n",
    "model.fit(X, y)\n",
    "\n",
    "# Plot feature importances\n",
    "importances = model.feature_importances_\n",
    "features = X.columns\n",
    "\n",
    "# Sort features by importance\n",
    "sorted_indices = importances.argsort()[::-1]\n",
    "\n",
    "plt.figure(figsize=(10, 6))\n",
    "plt.title(\"Top 10 Important Features for Tumor Classification\")\n",
    "plt.barh(range(10), importances[sorted_indices][:10], align='center')\n",
    "plt.yticks(range(10), [features[i] for i in sorted_indices[:10]])\n",
    "plt.gca().invert_yaxis()\n",
    "plt.xlabel(\"Importance Score\")\n",
    "plt.tight_layout()\n",
    "plt.show()\n"
   ]
  }
 ],
 "metadata": {
  "kernelspec": {
   "display_name": "Python 3 (ipykernel)",
   "language": "python",
   "name": "python3"
  },
  "language_info": {
   "codemirror_mode": {
    "name": "ipython",
    "version": 3
   },
   "file_extension": ".py",
   "mimetype": "text/x-python",
   "name": "python",
   "nbconvert_exporter": "python",
   "pygments_lexer": "ipython3",
   "version": "3.13.2"
  }
 },
 "nbformat": 4,
 "nbformat_minor": 5
}
