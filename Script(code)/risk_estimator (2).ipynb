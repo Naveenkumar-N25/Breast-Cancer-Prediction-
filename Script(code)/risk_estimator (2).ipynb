{
 "cells": [
  {
   "cell_type": "code",
   "execution_count": null,
   "id": "8b1b49c3-33f7-475d-918b-cb476235f0c6",
   "metadata": {},
   "outputs": [],
   "source": [
    "from sklearn.datasets import load_breast_cancer\n",
    "from sklearn.linear_model import LogisticRegression\n",
    "import numpy as np\n",
    "import matplotlib.pyplot as plt\n",
    "\n",
    "# Load dataset\n",
    "data = load_breast_cancer()\n",
    "X = data.data\n",
    "y = data.target\n",
    "feature_names = data.feature_names\n",
    "\n",
    "# Train logistic regression model\n",
    "model = LogisticRegression(max_iter=10000)\n",
    "model.fit(X, y)\n",
    "\n",
    "# Example patient data (first patient in the dataset)\n",
    "patient_index = 0\n",
    "example = X[patient_index].reshape(1, -1)\n",
    "prediction = model.predict(example)\n",
    "probability = model.predict_proba(example)[0]\n",
    "\n",
    "# Text Output\n",
    "print(\"Patient Diagnosis:\", \"Malignant\" if prediction[0] == 0 else \"Benign\")\n",
    "print(f\"Probability of Malignant Tumor: {probability[0]*100:.2f}%\")\n",
    "print(f\"Probability of Benign Tumor: {probability[1]*100:.2f}%\")\n",
    "\n",
    "# Graphical Output: Probability Bar Chart\n",
    "labels = ['Malignant', 'Benign']\n",
    "colors = ['red', 'green']\n",
    "plt.figure(figsize=(6, 4))\n",
    "plt.bar(labels, probability, color=colors)\n",
    "plt.title(\"Predicted Risk Level for Patient\")\n",
    "plt.ylabel(\"Probability\")\n",
    "plt.ylim(0, 1)\n",
    "for i in range(2):\n",
    "    plt.text(i, probability[i] + 0.02, f\"{probability[i]*100:.2f}%\", ha='center', fontsize=12)\n",
    "plt.tight_layout()\n",
    "plt.show()\n"
   ]
  }
 ],
 "metadata": {
  "kernelspec": {
   "display_name": "Python 3 (ipykernel)",
   "language": "python",
   "name": "python3"
  },
  "language_info": {
   "codemirror_mode": {
    "name": "ipython",
    "version": 3
   },
   "file_extension": ".py",
   "mimetype": "text/x-python",
   "name": "python",
   "nbconvert_exporter": "python",
   "pygments_lexer": "ipython3",
   "version": "3.13.2"
  }
 },
 "nbformat": 4,
 "nbformat_minor": 5
}
